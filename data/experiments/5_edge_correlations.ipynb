{
 "cells": [
  {
   "cell_type": "code",
   "execution_count": 1,
   "outputs": [
    {
     "name": "stdout",
     "output_type": "stream",
     "text": [
      "Requirement already satisfied: pandas==1.5.3 in c:\\users\\annet\\anaconda3\\lib\\site-packages (from -r ../requirements.txt (line 1)) (1.5.3)\n",
      "Requirement already satisfied: requests==2.28.1 in c:\\users\\annet\\anaconda3\\lib\\site-packages (from -r ../requirements.txt (line 2)) (2.28.1)\n",
      "Requirement already satisfied: networkx in c:\\users\\annet\\anaconda3\\lib\\site-packages (from -r ../requirements.txt (line 3)) (2.8.4)\n",
      "Requirement already satisfied: matplotlib in c:\\users\\annet\\anaconda3\\lib\\site-packages (from -r ../requirements.txt (line 4)) (3.5.2)\n",
      "Requirement already satisfied: seaborn in c:\\users\\annet\\anaconda3\\lib\\site-packages (from -r ../requirements.txt (line 5)) (0.11.2)\n",
      "Requirement already satisfied: pyarrow in c:\\users\\annet\\anaconda3\\lib\\site-packages (from -r ../requirements.txt (line 6)) (11.0.0)\n",
      "Requirement already satisfied: fastparquet in c:\\users\\annet\\appdata\\roaming\\python\\python39\\site-packages (from -r ../requirements.txt (line 7)) (2023.2.0)\n",
      "Requirement already satisfied: numpy in c:\\users\\annet\\anaconda3\\lib\\site-packages (from -r ../requirements.txt (line 8)) (1.21.5)\n",
      "Requirement already satisfied: sklearn in c:\\users\\annet\\anaconda3\\lib\\site-packages (from -r ../requirements.txt (line 9)) (0.0.post1)\n",
      "Requirement already satisfied: node2vec in c:\\users\\annet\\anaconda3\\lib\\site-packages (from -r ../requirements.txt (line 10)) (0.4.6)\n",
      "Requirement already satisfied: pytz>=2020.1 in c:\\users\\annet\\anaconda3\\lib\\site-packages (from pandas==1.5.3->-r ../requirements.txt (line 1)) (2022.1)\n",
      "Requirement already satisfied: python-dateutil>=2.8.1 in c:\\users\\annet\\anaconda3\\lib\\site-packages (from pandas==1.5.3->-r ../requirements.txt (line 1)) (2.8.2)\n",
      "Requirement already satisfied: urllib3<1.27,>=1.21.1 in c:\\users\\annet\\anaconda3\\lib\\site-packages (from requests==2.28.1->-r ../requirements.txt (line 2)) (1.26.11)\n",
      "Requirement already satisfied: charset-normalizer<3,>=2 in c:\\users\\annet\\anaconda3\\lib\\site-packages (from requests==2.28.1->-r ../requirements.txt (line 2)) (2.0.4)\n",
      "Requirement already satisfied: certifi>=2017.4.17 in c:\\users\\annet\\anaconda3\\lib\\site-packages (from requests==2.28.1->-r ../requirements.txt (line 2)) (2022.9.14)\n",
      "Requirement already satisfied: idna<4,>=2.5 in c:\\users\\annet\\anaconda3\\lib\\site-packages (from requests==2.28.1->-r ../requirements.txt (line 2)) (3.3)\n",
      "Requirement already satisfied: packaging>=20.0 in c:\\users\\annet\\anaconda3\\lib\\site-packages (from matplotlib->-r ../requirements.txt (line 4)) (21.3)\n",
      "Requirement already satisfied: cycler>=0.10 in c:\\users\\annet\\anaconda3\\lib\\site-packages (from matplotlib->-r ../requirements.txt (line 4)) (0.11.0)\n",
      "Requirement already satisfied: kiwisolver>=1.0.1 in c:\\users\\annet\\anaconda3\\lib\\site-packages (from matplotlib->-r ../requirements.txt (line 4)) (1.4.2)\n",
      "Requirement already satisfied: pillow>=6.2.0 in c:\\users\\annet\\anaconda3\\lib\\site-packages (from matplotlib->-r ../requirements.txt (line 4)) (9.2.0)\n",
      "Requirement already satisfied: pyparsing>=2.2.1 in c:\\users\\annet\\anaconda3\\lib\\site-packages (from matplotlib->-r ../requirements.txt (line 4)) (3.0.9)\n",
      "Requirement already satisfied: fonttools>=4.22.0 in c:\\users\\annet\\anaconda3\\lib\\site-packages (from matplotlib->-r ../requirements.txt (line 4)) (4.25.0)\n",
      "Requirement already satisfied: scipy>=1.0 in c:\\users\\annet\\anaconda3\\lib\\site-packages (from seaborn->-r ../requirements.txt (line 5)) (1.9.1)\n",
      "Requirement already satisfied: cramjam>=2.3 in c:\\users\\annet\\anaconda3\\lib\\site-packages (from fastparquet->-r ../requirements.txt (line 7)) (2.6.2)\n",
      "Requirement already satisfied: fsspec in c:\\users\\annet\\anaconda3\\lib\\site-packages (from fastparquet->-r ../requirements.txt (line 7)) (2022.7.1)\n",
      "Requirement already satisfied: tqdm<5.0.0,>=4.55.1 in c:\\users\\annet\\anaconda3\\lib\\site-packages (from node2vec->-r ../requirements.txt (line 10)) (4.64.1)\n",
      "Requirement already satisfied: gensim<5.0.0,>=4.1.2 in c:\\users\\annet\\anaconda3\\lib\\site-packages (from node2vec->-r ../requirements.txt (line 10)) (4.1.2)\n",
      "Requirement already satisfied: joblib<2.0.0,>=1.1.0 in c:\\users\\annet\\anaconda3\\lib\\site-packages (from node2vec->-r ../requirements.txt (line 10)) (1.1.0)\n",
      "Requirement already satisfied: smart-open>=1.8.1 in c:\\users\\annet\\anaconda3\\lib\\site-packages (from gensim<5.0.0,>=4.1.2->node2vec->-r ../requirements.txt (line 10)) (5.2.1)\n",
      "Requirement already satisfied: six>=1.5 in c:\\users\\annet\\anaconda3\\lib\\site-packages (from python-dateutil>=2.8.1->pandas==1.5.3->-r ../requirements.txt (line 1)) (1.16.0)\n",
      "Requirement already satisfied: colorama in c:\\users\\annet\\anaconda3\\lib\\site-packages (from tqdm<5.0.0,>=4.55.1->node2vec->-r ../requirements.txt (line 10)) (0.4.6)\n"
     ]
    }
   ],
   "source": [
    "!pip install -r ../requirements.txt"
   ],
   "metadata": {
    "collapsed": false
   }
  },
  {
   "cell_type": "code",
   "execution_count": 2,
   "outputs": [],
   "source": [
    "import pandas as pd\n",
    "from data.parliamentApiHelpers import ParliamentAPI\n",
    "from data.generateJson import get_links\n",
    "from matplotlib import pyplot as plt\n",
    "import networkx as nx\n",
    "import numpy as np"
   ],
   "metadata": {
    "collapsed": false
   }
  },
  {
   "cell_type": "code",
   "execution_count": 11,
   "outputs": [],
   "source": [
    "frac_party_to_short = {\n",
    "    \"Eesti Keskerakonna fraktsioon\": \"KESK\",\n",
    "    \"Eesti Konservatiivse Rahvaerakonna fraktsioon\": \"EKRE\",\n",
    "    \"Eesti Reformierakonna fraktsioon\": \"REF\",\n",
    "    \"Fraktsiooni mittekuuluvad Riigikogu liikmed\": \"MITTEKUULUVAD\",\n",
    "    \"Isamaa fraktsioon\": \"I\",\n",
    "    \"Sotsiaaldemokraatliku Erakonna fraktsioon\": \"SDE\"\n",
    "}\n",
    "resp_party_to_short = {\n",
    "    \"Keskerakond\": \"KESK\",\n",
    "    \"EKRE\": \"EKRE\",\n",
    "    \"Reformierakond\": \"REF\",\n",
    "    \"Isamaa\": \"I\",\n",
    "    \"SDE\": \"SDE\",\n",
    "    \"Parempoolsed\": \"PAR\",\n",
    "    \"Rohelised\": \"ROH\",\n",
    "    \"Eesti 200\": \"E200\",\n",
    "    \"Eestimaa Ühendatud Vasakpartei\": \"EÜVP\",\n",
    "    \"Üksikkandidaat\": \"ÜKS\"\n",
    "}"
   ],
   "metadata": {
    "collapsed": false
   }
  },
  {
   "cell_type": "code",
   "execution_count": 30,
   "outputs": [],
   "source": [
    "df_responses = pd.read_csv(\"../haaleandja/data_kandidaatide_vastused.csv\")\n",
    "df_responses[\"party_short\"] = df_responses.party.map(resp_party_to_short)\n",
    "df_responses[\"id\"] = df_responses[\"name\"] + \"_\" + df_responses[\"party_short\"]"
   ],
   "metadata": {
    "collapsed": false
   }
  },
  {
   "cell_type": "code",
   "execution_count": null,
   "outputs": [],
   "source": [],
   "metadata": {
    "collapsed": false
   }
  },
  {
   "cell_type": "code",
   "execution_count": 78,
   "outputs": [
    {
     "data": {
      "text/plain": "50_EKRE_I_KE                 0.570644\n51_RE_KE                     0.274521\n52_RE_SDE_I                  0.291399\nXIV Riigikogu (2019-2023)    0.467728\nName: corr_Hääleandja, dtype: float64"
     },
     "execution_count": 78,
     "metadata": {},
     "output_type": "execute_result"
    }
   ],
   "source": [
    "datasets = [\"50\", \"51\", \"52\", \"XIV\"]\n",
    "dataset_to_score = {d:0 for d in datasets}\n",
    "for dataset in datasets:\n",
    "    data_folder = f\"../coalition_{dataset}\"\n",
    "    df_votes = pd.read_parquet(f\"{data_folder}/votes.parquet\")\n",
    "    df_voters = pd.read_parquet(f\"{data_folder}/voters.parquet\")\n",
    "    df_voters[\"party_short\"] = df_voters[\"faction\"].map(frac_party_to_short)\n",
    "    df_voters[\"id\"] = df_voters[\"name\"] + \"_\" + df_voters[\"party_short\"]\n",
    "    present_in_both = set(df_responses.id.unique()).intersection(df_voters.id.unique())\n",
    "    df_votes_subselected = df_votes.rename(columns=df_voters[\"id\"].to_dict())[list(present_in_both)]\n",
    "    df_responses_subselected = df_responses[df_responses.id.isin(present_in_both)].set_index(\"id\")\n",
    "    qcols = [c for c in df_responses_subselected if \"Q\" in c]\n",
    "    responses_matrix = df_responses_subselected[qcols].T.corr()\n",
    "    votes_matrix = ParliamentAPI.generate_adjacency_matrix(df_votes_subselected, \"jaccards\", [\"POOLT\", \"VASTU\", \"ERAPOOLETU\"])\n",
    "    votes_edges = votes_matrix.unstack().rename(\"corr_vote\")\n",
    "    responses_edges = responses_matrix.unstack().rename(\"corr_response\")\n",
    "    final_corr = pd.concat([votes_edges, responses_edges], axis=1).corr().loc[\"corr_vote\", \"corr_response\"]\n",
    "    #print(f\"{dataset=}, {final_corr=}\")\n",
    "    dataset_to_score[dataset] = final_corr\n",
    "pd.Series(dataset_to_score).rename(\"corr_Hääleandja\").rename(index={\"50\": \"50_EKRE_I_KE\", \"51\": \"51_RE_KE\", \"52\": \"52_RE_SDE_I\", \"XIV\": \"XIV Riigikogu (2019-2023)\"})"
   ],
   "metadata": {
    "collapsed": false
   }
  }
 ],
 "metadata": {
  "kernelspec": {
   "display_name": "Python 3",
   "language": "python",
   "name": "python3"
  },
  "language_info": {
   "codemirror_mode": {
    "name": "ipython",
    "version": 2
   },
   "file_extension": ".py",
   "mimetype": "text/x-python",
   "name": "python",
   "nbconvert_exporter": "python",
   "pygments_lexer": "ipython2",
   "version": "2.7.6"
  }
 },
 "nbformat": 4,
 "nbformat_minor": 0
}
